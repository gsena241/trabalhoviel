{
  "cells": [
    {
      "cell_type": "markdown",
      "metadata": {
        "id": "view-in-github",
        "colab_type": "text"
      },
      "source": [
        "<a href=\"https://colab.research.google.com/github/gsena241/trabalhoviel/blob/main/Exemplo_Transformacao.ipynb\" target=\"_parent\"><img src=\"https://colab.research.google.com/assets/colab-badge.svg\" alt=\"Open In Colab\"/></a>"
      ]
    },
    {
      "cell_type": "markdown",
      "metadata": {
        "id": "WhZZ4pWiNx7l"
      },
      "source": [
        "Universidade do Vale do Itajaí<br>\n",
        "Escola do Mar, Ciência e Tecnologia<br>\n",
        "Professor Felipe Viel\n",
        "\n",
        "# Exemplo de Operações Pontuais e Filtro em OpenCV\n",
        "\n",
        "### Tutoriais da OpenCV\n",
        "\n",
        "- https://docs.opencv.org/master/d9/df8/tutorial_root.html\n",
        "- https://www.geeksforgeeks.org/opencv-python-tutorial/"
      ]
    },
    {
      "cell_type": "markdown",
      "metadata": {
        "id": "8KzyJbE-Nx7q"
      },
      "source": [
        "## Conversão de imagem RGB em imagem Grayscale"
      ]
    },
    {
      "cell_type": "code",
      "execution_count": null,
      "metadata": {
        "id": "SPRHcibRNx7s"
      },
      "outputs": [],
      "source": [
        "import cv2 #importação de biblioteca\n",
        "import numpy as np #importação de biblioteca e nomeando-a como \"np\"\n",
        "import matplotlib.pyplot as plt #importação de biblioteca e nomeando-a como \"plt\"\n",
        "#caso for usar o Google Colab com a OpenCV, usar a lib abaixo\n",
        "from google.colab.patches import cv2_imshow #importação de biblioetca\n"
      ]
    },
    {
      "cell_type": "code",
      "execution_count": null,
      "metadata": {
        "id": "QotrNpurNx7u"
      },
      "outputs": [],
      "source": [
        "#abrir a imagem\n",
        "img = cv2.imread('t1.jpg',1) #leitura de imagem\n",
        "#caso for usar o Google Colab com a OpenCV,\n",
        "cv2_imshow(img) #abre uma janela e mostra a imagem na janela"
      ]
    },
    {
      "cell_type": "code",
      "execution_count": null,
      "metadata": {
        "id": "VLSzKpTtNx7v"
      },
      "outputs": [],
      "source": [
        "#mostrando a imagem colorida - caso você use Python no seu computador\n",
        "#reutilize para exibir as imagens em outros códigos\n",
        "#Voce pode descomentar o código apagando as aspas simples\n",
        "'''\n",
        "cv2.imshow('in', img) #abre uma janela e mostra a imagem na janela\n",
        "cv2.waitKey(0) #aguarda até que uma tecla seja pressionada\n",
        "cv2.destroyAllWindows() #fechar todas as janelas abertas\n",
        "'''"
      ]
    },
    {
      "cell_type": "code",
      "execution_count": null,
      "metadata": {
        "id": "G2Q1PN3QNx7y"
      },
      "outputs": [],
      "source": [
        "#aplicando conversão ponderada - converte imagem colorida para preto e branco\n",
        "#img_grayscale_basic = 0.299*img[ : , : ,0] + 0.587*img[ : , : ,1] + 0.114*img[ : , : ,2]\n",
        "\n",
        "#cv2\n",
        "B, G, R = cv2.split(img) #divide a entrada de imagem em suas cores RGB\n",
        "img_grayscale_pondered = 0.299*B+0.587*G+0.114*R #usava para transformar uma imagem colorida em escala cinza\n",
        "\n",
        "img_grayscale_pondered = np.array(img_grayscale_pondered, dtype=np.uint8) #transforma em um array\n",
        "\n",
        "cv2_imshow(img_grayscale_pondered) #abre uma janela e mostra a imagem na janela\n"
      ]
    },
    {
      "cell_type": "markdown",
      "metadata": {
        "id": "bA2JoZjXNx78"
      },
      "source": [
        "## Transformações"
      ]
    },
    {
      "cell_type": "code",
      "execution_count": null,
      "metadata": {
        "id": "QGSulCVYNx78"
      },
      "outputs": [],
      "source": [
        "#negativo\n",
        "\n",
        "#img_negative[ : , : ,0] = 255 - img[ : , : ,0]\n",
        "#img_negative[ : , : ,1] = 255 - img[ : , : ,1]\n",
        "#img_negative[ : , : ,2] = 255 - img[ : , : ,2]\n",
        "\n",
        "#Mude a variavel colorida para 1 caso queira colorida, o para 0 caso queira em escala de cinza\n",
        "colorida = 1\n",
        "img_in = cv2.imread('t1.jpg',colorida) #leitura de imagem\n",
        "\n",
        "img_out = 255 - img_in #criar imagem negativa da imagem de entrada\n",
        "\n",
        "cv2_imshow(img_in) #abre uma janela e mostra a imagem na janela\n",
        "cv2_imshow(img_out) #abre uma janela e mostra a imagem na janela"
      ]
    },
    {
      "cell_type": "code",
      "execution_count": null,
      "metadata": {
        "id": "HMELaw10Nx8B"
      },
      "outputs": [],
      "source": [
        "#contraste e brilho\n",
        "img_in = cv2.imread('t1.jpg',0) #leitura de imagem\n",
        "#altere os valores tanto de a quanto de b\n",
        "\n",
        "a = -1 #declaração de variável\n",
        "b = 1 #declaração de variável\n",
        "\n",
        "img_out = a*img_in + b #operação de ajuste de bilho e contrate\n",
        "\n",
        "img_out = np.array(img_out, dtype = np.uint8) #transforma em um array\n",
        "\n",
        "cv2_imshow(img_in) #abre uma janela e mostra a imagem na janela\n",
        "cv2_imshow(img_out) #abre uma janela e mostra a imagem na janela"
      ]
    },
    {
      "cell_type": "markdown",
      "metadata": {
        "id": "W8UZXLnRNx8E"
      },
      "source": [
        "## Filtro Espacial"
      ]
    },
    {
      "cell_type": "code",
      "execution_count": null,
      "metadata": {
        "id": "hWxjlsd9Nx8F"
      },
      "outputs": [],
      "source": [
        "#suavização\n",
        "#você pode ler sobre o conceito aqui: https://docs.opencv.org/4.x/d4/d13/tutorial_py_filtering.html\n",
        "img_in = cv2.imread('t1.jpg',0) #leitura de imagem\n",
        "\n",
        "kernel = np.ones((5,5),np.float32)/25 #operação de filtragem de imagem\n",
        "\n",
        "img_out_1 = cv2.filter2D(img_in,-1,kernel) #operação de filtragem 2D\n",
        "\n",
        "\n",
        "cv2_imshow(img_in) #abre uma janela e mostra a imagem na janela\n",
        "cv2_imshow(img_out_1) #abre uma janela e mostra a imagem na janela\n",
        "\n"
      ]
    }
  ],
  "metadata": {
    "kernelspec": {
      "display_name": "Python 3",
      "language": "python",
      "name": "python3"
    },
    "language_info": {
      "codemirror_mode": {
        "name": "ipython",
        "version": 3
      },
      "file_extension": ".py",
      "mimetype": "text/x-python",
      "name": "python",
      "nbconvert_exporter": "python",
      "pygments_lexer": "ipython3",
      "version": "3.8.5"
    },
    "colab": {
      "provenance": [],
      "include_colab_link": true
    }
  },
  "nbformat": 4,
  "nbformat_minor": 0
}